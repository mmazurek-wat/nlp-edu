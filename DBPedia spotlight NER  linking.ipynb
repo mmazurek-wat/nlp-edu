{
  "nbformat": 4,
  "nbformat_minor": 0,
  "metadata": {
    "colab": {
      "provenance": [],
      "authorship_tag": "ABX9TyMdKS3ZVKTbp5P3b/fOv0F3",
      "include_colab_link": true
    },
    "kernelspec": {
      "name": "python3",
      "display_name": "Python 3"
    },
    "language_info": {
      "name": "python"
    }
  },
  "cells": [
    {
      "cell_type": "markdown",
      "metadata": {
        "id": "view-in-github",
        "colab_type": "text"
      },
      "source": [
        "<a href=\"https://colab.research.google.com/github/mmazurek-wat/nlp-edu/blob/main/DBPedia%20spotlight%20NER%20%20linking.ipynb\" target=\"_parent\"><img src=\"https://colab.research.google.com/assets/colab-badge.svg\" alt=\"Open In Colab\"/></a>"
      ]
    },
    {
      "cell_type": "code",
      "execution_count": 11,
      "metadata": {
        "colab": {
          "base_uri": "https://localhost:8080/",
          "height": 833
        },
        "id": "WXZs-Eh2iOxv",
        "outputId": "dc5213ab-199b-46e7-f577-19849a1baef8"
      },
      "outputs": [
        {
          "output_type": "display_data",
          "data": {
            "text/plain": [
              "<IPython.core.display.HTML object>"
            ],
            "text/html": [
              "<!DOCTYPE HTML PUBLIC \"-//W3C//DTD HTML 4.01 Transitional//EN\" \"http://www.w3.org/TR/html4/loose.dtd\">\n",
              "<html>\n",
              "<head>\n",
              "<title>DBpedia Spotlight annotation</title>\n",
              "<meta http-equiv=\"Content-type\" content=\"text/html;charset=UTF-8\">\n",
              "</head>\n",
              "<body>\n",
              "<div>\n",
              "My name is <a href=\"http://dbpedia.org/resource/Donald_Trump\" title=\"http://dbpedia.org/resource/Donald_Trump\" target=\"_blank\">Donald Trump</a>. I am the <a href=\"http://dbpedia.org/resource/President_of_the_United_States\" title=\"http://dbpedia.org/resource/President_of_the_United_States\" target=\"_blank\">president</a> of <a href=\"http://dbpedia.org/resource/United_States\" title=\"http://dbpedia.org/resource/United_States\" target=\"_blank\">United States</a> of <a href=\"http://dbpedia.org/resource/United_States\" title=\"http://dbpedia.org/resource/United_States\" target=\"_blank\">America</a>\n",
              "</div>\n",
              "</body>\n",
              "</html>"
            ]
          },
          "metadata": {}
        },
        {
          "output_type": "stream",
          "name": "stdout",
          "text": [
            "{\n",
            "  \"@text\": \"My name is Donald Trump. I am the president of United States of America\",\n",
            "  \"@confidence\": \"0.35\",\n",
            "  \"@support\": \"0\",\n",
            "  \"@types\": \"\",\n",
            "  \"@sparql\": \"\",\n",
            "  \"@policy\": \"whitelist\",\n",
            "  \"Resources\": [\n",
            "    {\n",
            "      \"@URI\": \"http://dbpedia.org/resource/Donald_Trump\",\n",
            "      \"@support\": \"30526\",\n",
            "      \"@types\": \"Http://xmlns.com/foaf/0.1/Person,Wikidata:Q82955,Wikidata:Q729,Wikidata:Q5,Wikidata:Q215627,Wikidata:Q19088,DUL:NaturalPerson,Schema:Person,DBpedia:Species,DBpedia:Person,DBpedia:Eukaryote,DBpedia:Animal,DBpedia:Politician\",\n",
            "      \"@surfaceForm\": \"Donald Trump\",\n",
            "      \"@offset\": \"11\",\n",
            "      \"@similarityScore\": \"0.9999255073036077\",\n",
            "      \"@percentageOfSecondRank\": \"4.211021832318584E-5\"\n",
            "    },\n",
            "    {\n",
            "      \"@URI\": \"http://dbpedia.org/resource/President_of_the_United_States\",\n",
            "      \"@support\": \"56580\",\n",
            "      \"@types\": \"\",\n",
            "      \"@surfaceForm\": \"president\",\n",
            "      \"@offset\": \"34\",\n",
            "      \"@similarityScore\": \"0.9992826922074058\",\n",
            "      \"@percentageOfSecondRank\": \"4.5760932342653267E-4\"\n",
            "    },\n",
            "    {\n",
            "      \"@URI\": \"http://dbpedia.org/resource/United_States\",\n",
            "      \"@support\": \"468823\",\n",
            "      \"@types\": \"Wikidata:Q6256,Schema:Place,Schema:Country,DBpedia:PopulatedPlace,DBpedia:Place,DBpedia:Location,DBpedia:Country\",\n",
            "      \"@surfaceForm\": \"United States\",\n",
            "      \"@offset\": \"47\",\n",
            "      \"@similarityScore\": \"0.9998906228234467\",\n",
            "      \"@percentageOfSecondRank\": \"4.399370974568499E-5\"\n",
            "    },\n",
            "    {\n",
            "      \"@URI\": \"http://dbpedia.org/resource/United_States\",\n",
            "      \"@support\": \"468823\",\n",
            "      \"@types\": \"Wikidata:Q6256,Schema:Place,Schema:Country,DBpedia:PopulatedPlace,DBpedia:Place,DBpedia:Location,DBpedia:Country\",\n",
            "      \"@surfaceForm\": \"America\",\n",
            "      \"@offset\": \"64\",\n",
            "      \"@similarityScore\": \"0.9945313400708604\",\n",
            "      \"@percentageOfSecondRank\": \"0.004079197765955326\"\n",
            "    }\n",
            "  ]\n",
            "}\n"
          ]
        }
      ],
      "source": [
        "import requests\n",
        "from IPython.core.display import display, HTML\n",
        "import json\n",
        "\n",
        "\n",
        "# Base URL for Spotlight API\n",
        "base_url = \"http://api.dbpedia-spotlight.org/en/annotate\"\n",
        "\n",
        "# Parameters\n",
        "# 'text' - text to be annotated\n",
        "# 'confidence' -   confidence score for linking\n",
        "params = {\"text\": \"My name is Donald Trump. I am the president of United States of America\", \"confidence\": 0.35}\n",
        "# Response content type\n",
        "\n",
        "\n",
        "\n",
        "# GET Request\n",
        "# Display the result as HTML in Jupyter Notebook\n",
        "\n",
        "headers = {'accept': 'text/html'}\n",
        "res = requests.get(base_url, params=params, headers=headers)\n",
        "display(HTML(res.text))\n",
        "\n",
        "\n",
        "headers = {'accept': 'application/json'}\n",
        "res = requests.get(base_url, params=params, headers=headers)\n",
        "print(json.dumps(res.json(), indent=2))\n"
      ]
    },
    {
      "cell_type": "code",
      "source": [
        "# prompt: add line with prinitning as formatted json\n",
        "\n",
        "import requests\n",
        "from IPython.core.display import display, HTML\n",
        "import json\n",
        "\n",
        "# Base URL for Spotlight API\n",
        "base_url = \"http://api.dbpedia-spotlight.org/en/annotate\"\n",
        "\n",
        "# Parameters\n",
        "# 'text' - text to be annotated\n",
        "# 'confidence' -   confidence score for linking\n",
        "params = {\"text\": \"My name is Donald Trump. I am the president of United States of America\", \"confidence\": 0.35}\n",
        "# Response content type\n",
        "\n",
        "\n",
        "\n",
        "# GET Request\n",
        "# Display the result as HTML in Jupyter Notebook\n",
        "\n",
        "headers = {'accept': 'text/html'}\n",
        "res = requests.get(base_url, params=params, headers=headers)\n",
        "display(HTML(res.text))\n",
        "\n",
        "\n",
        "headers = {'accept': 'application/json'}\n",
        "res = requests.get(base_url, params=params, headers=headers)\n",
        "print(json.dumps(res.json(), indent=2)) # Added line to print formatted JSON"
      ],
      "metadata": {
        "id": "Ays9VyXHi93p"
      },
      "execution_count": null,
      "outputs": []
    }
  ]
}