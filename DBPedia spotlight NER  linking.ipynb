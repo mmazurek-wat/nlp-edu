{
  "nbformat": 4,
  "nbformat_minor": 0,
  "metadata": {
    "colab": {
      "provenance": [],
      "authorship_tag": "ABX9TyMMvnD3xtkLPq0Rvo5NDkAV",
      "include_colab_link": true
    },
    "kernelspec": {
      "name": "python3",
      "display_name": "Python 3"
    },
    "language_info": {
      "name": "python"
    }
  },
  "cells": [
    {
      "cell_type": "markdown",
      "metadata": {
        "id": "view-in-github",
        "colab_type": "text"
      },
      "source": [
        "<a href=\"https://colab.research.google.com/github/mmazurek-wat/nlp-edu/blob/main/DBPedia%20spotlight%20NER%20%20linking.ipynb\" target=\"_parent\"><img src=\"https://colab.research.google.com/assets/colab-badge.svg\" alt=\"Open In Colab\"/></a>"
      ]
    },
    {
      "cell_type": "code",
      "execution_count": 5,
      "metadata": {
        "colab": {
          "base_uri": "https://localhost:8080/",
          "height": 263
        },
        "id": "WXZs-Eh2iOxv",
        "outputId": "eaf750c3-ec4c-4609-c726-506ab42c903b"
      },
      "outputs": [
        {
          "output_type": "stream",
          "name": "stdout",
          "text": [
            "<!DOCTYPE HTML PUBLIC \"-//W3C//DTD HTML 4.01 Transitional//EN\" \"http://www.w3.org/TR/html4/loose.dtd\">\n",
            "<html>\n",
            "<head>\n",
            "<title>DBpedia Spotlight annotation</title>\n",
            "<meta http-equiv=\"Content-type\" content=\"text/html;charset=UTF-8\">\n",
            "</head>\n",
            "<body>\n",
            "<div>\n",
            "My name is <a href=\"http://dbpedia.org/resource/Donald_Trump\" title=\"http://dbpedia.org/resource/Donald_Trump\" target=\"_blank\">Donald Trump</a>. I am the <a href=\"http://dbpedia.org/resource/President_of_the_United_States\" title=\"http://dbpedia.org/resource/President_of_the_United_States\" target=\"_blank\">president</a> of <a href=\"http://dbpedia.org/resource/United_States\" title=\"http://dbpedia.org/resource/United_States\" target=\"_blank\">United States</a> of <a href=\"http://dbpedia.org/resource/United_States\" title=\"http://dbpedia.org/resource/United_States\" target=\"_blank\">America</a>\n",
            "</div>\n",
            "</body>\n",
            "</html>\n"
          ]
        },
        {
          "output_type": "display_data",
          "data": {
            "text/plain": [
              "<IPython.core.display.HTML object>"
            ],
            "text/html": [
              "<!DOCTYPE HTML PUBLIC \"-//W3C//DTD HTML 4.01 Transitional//EN\" \"http://www.w3.org/TR/html4/loose.dtd\">\n",
              "<html>\n",
              "<head>\n",
              "<title>DBpedia Spotlight annotation</title>\n",
              "<meta http-equiv=\"Content-type\" content=\"text/html;charset=UTF-8\">\n",
              "</head>\n",
              "<body>\n",
              "<div>\n",
              "My name is <a href=\"http://dbpedia.org/resource/Donald_Trump\" title=\"http://dbpedia.org/resource/Donald_Trump\" target=\"_blank\">Donald Trump</a>. I am the <a href=\"http://dbpedia.org/resource/President_of_the_United_States\" title=\"http://dbpedia.org/resource/President_of_the_United_States\" target=\"_blank\">president</a> of <a href=\"http://dbpedia.org/resource/United_States\" title=\"http://dbpedia.org/resource/United_States\" target=\"_blank\">United States</a> of <a href=\"http://dbpedia.org/resource/United_States\" title=\"http://dbpedia.org/resource/United_States\" target=\"_blank\">America</a>\n",
              "</div>\n",
              "</body>\n",
              "</html>"
            ]
          },
          "metadata": {}
        }
      ],
      "source": [
        "import requests\n",
        "from IPython.core.display import display, HTML\n",
        "\n",
        "\n",
        "# Base URL for Spotlight API\n",
        "base_url = \"http://api.dbpedia-spotlight.org/en/annotate\"\n",
        "\n",
        "# Parameters\n",
        "# 'text' - text to be annotated\n",
        "# 'confidence' -   confidence score for linking\n",
        "params = {\"text\": \"My name is Donald Trump. I am the president of United States of America\", \"confidence\": 0.35}\n",
        "# Response content type\n",
        "\n",
        "headers = {'accept': 'text/html'}\n",
        "# GET Request\n",
        "res = requests.get(base_url, params=params, headers=headers)\n",
        "\n",
        "# Display the result as HTML in Jupyter Notebook\n",
        "display(HTML(res.text))"
      ]
    },
    {
      "cell_type": "code",
      "source": [],
      "metadata": {
        "id": "Ays9VyXHi93p"
      },
      "execution_count": null,
      "outputs": []
    }
  ]
}