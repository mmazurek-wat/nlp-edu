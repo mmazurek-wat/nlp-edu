{
  "cells": [
    {
      "cell_type": "markdown",
      "metadata": {
        "id": "view-in-github",
        "colab_type": "text"
      },
      "source": [
        "<a href=\"https://colab.research.google.com/github/mmazurek-wat/nlp-edu/blob/main/Word_embedding_with_backpropagation.ipynb\" target=\"_parent\"><img src=\"https://colab.research.google.com/assets/colab-badge.svg\" alt=\"Open In Colab\"/></a>"
      ]
    },
    {
      "cell_type": "markdown",
      "metadata": {
        "id": "PZr1BjWSyG1K"
      },
      "source": [
        "# Word Embeddings on single observation\n",
        "In previous lecture notebooks you saw how to prepare data before feeding it to a continuous bag-of-words model, the model itself, its architecture and activation functions. This notebook will walk you through:\n",
        "\n",
        "- Forward propagation.\n",
        "\n",
        "- Cross-entropy loss.\n",
        "\n",
        "- Backpropagation.\n",
        "\n",
        "- Gradient descent.\n",
        "\n",
        "Which are concepts necessary to understand how the training of the model works.\n",
        "\n",
        "Let's dive into it!"
      ]
    },
    {
      "cell_type": "code",
      "source": [
        "# pulling resources necessary to run code\n",
        "# they will be stored in '/content/nlp-resources-edu/05_Embedding_lab/' folder\n",
        "\n",
        "!git clone  https://github.com/mmazurek-wat/nlp-resources-edu.git\n",
        "resource_path = '/content/nlp-resources-edu/05_Embedding_lab/'\n"
      ],
      "metadata": {
        "colab": {
          "base_uri": "https://localhost:8080/"
        },
        "id": "LMge8gFay4f_",
        "outputId": "212ac0b4-f93e-48bb-9905-7b2bbafbb43b"
      },
      "execution_count": 12,
      "outputs": [
        {
          "output_type": "stream",
          "name": "stdout",
          "text": [
            "fatal: destination path 'nlp-resources-edu' already exists and is not an empty directory.\n"
          ]
        }
      ]
    },
    {
      "cell_type": "code",
      "source": [
        "import sys\n",
        "\n",
        "sys.path.append(resource_path)"
      ],
      "metadata": {
        "id": "FiUPguuzzCzu"
      },
      "execution_count": 13,
      "outputs": []
    },
    {
      "cell_type": "code",
      "execution_count": 14,
      "metadata": {
        "id": "nXpx-3CtyG1L"
      },
      "outputs": [],
      "source": [
        "import numpy as np\n",
        "from utils2 import get_dict"
      ]
    },
    {
      "cell_type": "markdown",
      "metadata": {
        "id": "enZ8AsmHyG1N"
      },
      "source": [
        "## Forward propagation"
      ]
    },
    {
      "cell_type": "markdown",
      "metadata": {
        "id": "ynCJpqhryG1N"
      },
      "source": [
        "Let's dive into the neural network itself, which is shown below with all the dimensions and formulas you'll need.\n",
        "\n",
        "<div style=\"width:image width px; font-size:100%; text-align:center;\"><img src='cbow_model_dimensions_single_input.png' alt=\"alternate text\" width=\"width\" height=\"height\" style=\"width:839;height:349;\" /> Figure 2 </div>"
      ]
    },
    {
      "cell_type": "markdown",
      "metadata": {
        "id": "ALVc4Oq_yG1N"
      },
      "source": [
        "Set $N$ equal to 3. Remember that $N$ is a hyperparameter of the CBOW model that represents the size of the word embedding vectors, as well as the size of the hidden layer.\n",
        "\n",
        "Also set $V$ equal to 5, which is the size of the vocabulary we have used so far."
      ]
    },
    {
      "cell_type": "code",
      "execution_count": 15,
      "metadata": {
        "id": "fcmPfnXEyG1N"
      },
      "outputs": [],
      "source": [
        "# Define the size of the word embedding vectors and save it in the variable 'N'\n",
        "N = 3\n",
        "\n",
        "# Define V. Remember this was the size of the vocabulary in the previous lecture notebooks\n",
        "V = 5"
      ]
    },
    {
      "cell_type": "markdown",
      "metadata": {
        "id": "k4gKzXWiyG1N"
      },
      "source": [
        "### Initialization of the weights and biases"
      ]
    },
    {
      "cell_type": "markdown",
      "metadata": {
        "id": "KZY2SEKGyG1N"
      },
      "source": [
        "Before you start training the neural network, you need to initialize the weight matrices and bias vectors with random values.\n",
        "\n",
        "In the assignment you will implement a function to do this yourself using `numpy.random.rand`. In this notebook, we've pre-populated these matrices and vectors for you."
      ]
    },
    {
      "cell_type": "code",
      "execution_count": 16,
      "metadata": {
        "id": "d2XXeUf3yG1N"
      },
      "outputs": [],
      "source": [
        "# Define first matrix of weights\n",
        "W1 = np.array([[ 0.41687358,  0.08854191, -0.23495225,  0.28320538,  0.41800106],\n",
        "               [ 0.32735501,  0.22795148, -0.23951958,  0.4117634 , -0.23924344],\n",
        "               [ 0.26637602, -0.23846886, -0.37770863, -0.11399446,  0.34008124]])\n",
        "\n",
        "# Define second matrix of weights\n",
        "W2 = np.array([[-0.22182064, -0.43008631,  0.13310965],\n",
        "               [ 0.08476603,  0.08123194,  0.1772054 ],\n",
        "               [ 0.1871551 , -0.06107263, -0.1790735 ],\n",
        "               [ 0.07055222, -0.02015138,  0.36107434],\n",
        "               [ 0.33480474, -0.39423389, -0.43959196]])\n",
        "\n",
        "# Define first vector of biases\n",
        "b1 = np.array([[ 0.09688219],\n",
        "               [ 0.29239497],\n",
        "               [-0.27364426]])\n",
        "\n",
        "# Define second vector of biases\n",
        "b2 = np.array([[ 0.0352008 ],\n",
        "               [-0.36393384],\n",
        "               [-0.12775555],\n",
        "               [-0.34802326],\n",
        "               [-0.07017815]])"
      ]
    },
    {
      "cell_type": "markdown",
      "metadata": {
        "id": "cIKM6J3cyG1N"
      },
      "source": [
        "**Check that the dimensions of these matrices match those shown in the figure above.**"
      ]
    },
    {
      "cell_type": "code",
      "execution_count": 17,
      "metadata": {
        "colab": {
          "base_uri": "https://localhost:8080/"
        },
        "id": "0Pehsny4yG1O",
        "outputId": "03df4498-33b9-4599-87c3-aeba05375505"
      },
      "outputs": [
        {
          "output_type": "stream",
          "name": "stdout",
          "text": [
            "V (vocabulary size): 5\n",
            "N (embedding size / size of the hidden layer): 3\n",
            "size of W1: (3, 5) (NxV)\n",
            "size of b1: (3, 1) (Nx1)\n",
            "size of W2: (5, 3) (VxN)\n",
            "size of b2: (5, 1) (Vx1)\n"
          ]
        }
      ],
      "source": [
        "print(f'V (vocabulary size): {V}')\n",
        "print(f'N (embedding size / size of the hidden layer): {N}')\n",
        "print(f'size of W1: {W1.shape} (NxV)')\n",
        "print(f'size of b1: {b1.shape} (Nx1)')\n",
        "print(f'size of W2: {W2.shape} (VxN)')\n",
        "print(f'size of b2: {b2.shape} (Vx1)')"
      ]
    },
    {
      "cell_type": "markdown",
      "metadata": {
        "id": "aZdxAfoayG1O"
      },
      "source": [
        "\n",
        "Before moving forward, you will need some functions and variables defined in previous notebooks. They can be found next. Be sure you understand everything that is going on in the next cell, if not consider doing a refresh of the first lecture notebook."
      ]
    },
    {
      "cell_type": "code",
      "execution_count": 18,
      "metadata": {
        "id": "y_g7rKLryG1O"
      },
      "outputs": [],
      "source": [
        "# Define the tokenized version of the corpus\n",
        "words = ['i', 'am', 'happy', 'because', 'i', 'am', 'learning']\n",
        "\n",
        "# Get 'word2Ind' and 'Ind2word' dictionaries for the tokenized corpus\n",
        "word2Ind, Ind2word = get_dict(words)\n",
        "\n",
        "# Define the 'get_windows' function as seen in a previous notebook\n",
        "def get_windows(words, C):\n",
        "    i = C\n",
        "    while i < len(words) - C:\n",
        "        center_word = words[i]\n",
        "        context_words = words[(i - C):i] + words[(i+1):(i+C+1)]\n",
        "        yield context_words, center_word\n",
        "        i += 1\n",
        "\n",
        "# Define the 'word_to_one_hot_vector' function as seen in a previous notebook\n",
        "def word_to_one_hot_vector(word, word2Ind, V):\n",
        "    one_hot_vector = np.zeros(V)\n",
        "    one_hot_vector[word2Ind[word]] = 1\n",
        "    return one_hot_vector\n",
        "\n",
        "# Define the 'context_words_to_vector' function as seen in a previous notebook\n",
        "def context_words_to_vector(context_words, word2Ind, V):\n",
        "    context_words_vectors = [word_to_one_hot_vector(w, word2Ind, V) for w in context_words]\n",
        "    context_words_vectors = np.mean(context_words_vectors, axis=0)\n",
        "    return context_words_vectors\n",
        "\n",
        "# Define the generator function 'get_training_example' as seen in a previous notebook\n",
        "def get_training_example(words, C, word2Ind, V):\n",
        "    for context_words, center_word in get_windows(words, C):\n",
        "        yield context_words_to_vector(context_words, word2Ind, V), word_to_one_hot_vector(center_word, word2Ind, V)"
      ]
    },
    {
      "cell_type": "markdown",
      "metadata": {
        "id": "dfu89zuMyG1O"
      },
      "source": [
        "### Training example"
      ]
    },
    {
      "cell_type": "markdown",
      "metadata": {
        "id": "6IoD74YoyG1O"
      },
      "source": [
        "Run the next cells to get the first training example, made of the vector representing the context words \"i am because i\", and the target which is the one-hot vector representing the center word \"happy\".\n",
        "\n",
        "> You don't need to worry about the Python syntax, but there are some explanations below if you want to know what's happening behind the scenes."
      ]
    },
    {
      "cell_type": "code",
      "execution_count": 19,
      "metadata": {
        "id": "DLHFK8JxyG1O"
      },
      "outputs": [],
      "source": [
        "# Save generator object in the 'training_examples' variable with the desired arguments\n",
        "training_examples = get_training_example(words, 2, word2Ind, V)"
      ]
    },
    {
      "cell_type": "markdown",
      "metadata": {
        "id": "CscKxc5pyG1O"
      },
      "source": [
        "> `get_training_examples`, which uses the `yield` keyword, is known as a generator. When run, it builds an iterator, which is a special type of object that... you can iterate on (using a `for` loop for instance), to retrieve the successive values that the function generates.\n",
        ">\n",
        "> In this case `get_training_examples` `yield`s training examples, and iterating on `training_examples` will return the successive training examples."
      ]
    },
    {
      "cell_type": "code",
      "execution_count": 20,
      "metadata": {
        "id": "paQzmcyWyG1O"
      },
      "outputs": [],
      "source": [
        "# Get first values from generator\n",
        "x_array, y_array = next(training_examples)"
      ]
    },
    {
      "cell_type": "markdown",
      "metadata": {
        "id": "0C31FgJbyG1O"
      },
      "source": [
        "> `next` is another special keyword, which gets the next available value from an iterator. Here, you'll get the very first value, which is the first training example. If you run this cell again, you'll get the next value, and so on until the iterator runs out of values to return.\n",
        ">\n",
        "> In this notebook `next` is used because you will only be performing one iteration of training. In this week's assignment with the full training over several iterations you'll use regular `for` loops with the iterator that supplies the training examples."
      ]
    },
    {
      "cell_type": "markdown",
      "metadata": {
        "id": "i1aufeWvyG1O"
      },
      "source": [
        "The vector representing the context words, which will be fed into the neural network, is:"
      ]
    },
    {
      "cell_type": "code",
      "execution_count": 21,
      "metadata": {
        "colab": {
          "base_uri": "https://localhost:8080/"
        },
        "id": "LLPepOdgyG1O",
        "outputId": "55548ea2-54ae-42fd-a500-526845996c83"
      },
      "outputs": [
        {
          "output_type": "execute_result",
          "data": {
            "text/plain": [
              "array([0.25, 0.25, 0.  , 0.5 , 0.  ])"
            ]
          },
          "metadata": {},
          "execution_count": 21
        }
      ],
      "source": [
        "# Print context words vector\n",
        "x_array"
      ]
    },
    {
      "cell_type": "markdown",
      "metadata": {
        "id": "fdwUujcKyG1P"
      },
      "source": [
        "The one-hot vector representing the center word to be predicted is:"
      ]
    },
    {
      "cell_type": "code",
      "execution_count": 22,
      "metadata": {
        "colab": {
          "base_uri": "https://localhost:8080/"
        },
        "id": "vjv5owGCyG1P",
        "outputId": "2203e575-6dbb-4c76-c520-bd94cfb41294"
      },
      "outputs": [
        {
          "output_type": "execute_result",
          "data": {
            "text/plain": [
              "array([0., 0., 1., 0., 0.])"
            ]
          },
          "metadata": {},
          "execution_count": 22
        }
      ],
      "source": [
        "# Print one hot vector of center word\n",
        "y_array"
      ]
    },
    {
      "cell_type": "markdown",
      "metadata": {
        "id": "yD-Pe0IsyG1P"
      },
      "source": [
        "Now convert these vectors into matrices (or 2D arrays) to be able to perform matrix multiplication on the right types of objects, as explained in a previous notebook."
      ]
    },
    {
      "cell_type": "code",
      "execution_count": 23,
      "metadata": {
        "colab": {
          "base_uri": "https://localhost:8080/"
        },
        "id": "MiHm1BXryG1P",
        "outputId": "ef8dc927-4cce-44bd-a75e-b6223d9992be"
      },
      "outputs": [
        {
          "output_type": "stream",
          "name": "stdout",
          "text": [
            "x:\n",
            "[[0.25]\n",
            " [0.25]\n",
            " [0.  ]\n",
            " [0.5 ]\n",
            " [0.  ]]\n",
            "\n",
            "y:\n",
            "[[0.]\n",
            " [0.]\n",
            " [1.]\n",
            " [0.]\n",
            " [0.]]\n"
          ]
        }
      ],
      "source": [
        "# Copy vector\n",
        "x = x_array.copy()\n",
        "\n",
        "# Reshape it\n",
        "x.shape = (V, 1)\n",
        "\n",
        "# Print it\n",
        "print(f'x:\\n{x}\\n')\n",
        "\n",
        "# Copy vector\n",
        "y = y_array.copy()\n",
        "\n",
        "# Reshape it\n",
        "y.shape = (V, 1)\n",
        "\n",
        "# Print it\n",
        "print(f'y:\\n{y}')"
      ]
    },
    {
      "cell_type": "markdown",
      "metadata": {
        "id": "YCVhs47JyG1P"
      },
      "source": [
        "Now you will need the activation functions seen before. Again, if this feel unfamiliar consider checking the previous lecture notebook."
      ]
    },
    {
      "cell_type": "code",
      "execution_count": 24,
      "metadata": {
        "id": "BzW_5t7hyG1P"
      },
      "outputs": [],
      "source": [
        "# Define the 'relu' function as seen in the previous lecture notebook\n",
        "def relu(z):\n",
        "    result = z.copy()\n",
        "    result[result < 0] = 0\n",
        "    return result\n",
        "\n",
        "# Define the 'softmax' function as seen in the previous lecture notebook\n",
        "def softmax(z):\n",
        "    e_z = np.exp(z)\n",
        "    sum_e_z = np.sum(e_z)\n",
        "    return e_z / sum_e_z"
      ]
    },
    {
      "cell_type": "markdown",
      "metadata": {
        "id": "RKjHheClyG1P"
      },
      "source": [
        "### Values of the hidden layer\n",
        "\n",
        "Now that you have initialized all the variables that you need for forward propagation, you can calculate the values of the hidden layer using the following formulas:\n",
        "\n",
        "\\begin{align}\n",
        " \\mathbf{z_1} = \\mathbf{W_1}\\mathbf{x} + \\mathbf{b_1}  \\tag{1} \\\\\n",
        " \\mathbf{h} = \\mathrm{ReLU}(\\mathbf{z_1})  \\tag{2} \\\\\n",
        "\\end{align}\n",
        "\n",
        "First, you can calculate the value of $\\mathbf{z_1}$."
      ]
    },
    {
      "cell_type": "code",
      "execution_count": 25,
      "metadata": {
        "id": "7frfWYzGyG1P"
      },
      "outputs": [],
      "source": [
        "# Compute z1 (values of first hidden layer before applying the ReLU function)\n",
        "z1 = np.dot(W1, x) + b1"
      ]
    },
    {
      "cell_type": "markdown",
      "metadata": {
        "id": "4OIphdS6yG1P"
      },
      "source": [
        "> `np.dot` is numpy's function for matrix multiplication.\n",
        "\n",
        "As expected you get an $N$ by 1 matrix, or column vector with $N$ elements, where $N$ is equal to the embedding size, which is 3 in this example."
      ]
    },
    {
      "cell_type": "code",
      "execution_count": 26,
      "metadata": {
        "colab": {
          "base_uri": "https://localhost:8080/"
        },
        "id": "cIBBhK4WyG1P",
        "outputId": "ce6f234e-fc83-4e97-8a4a-b5d007259f67"
      },
      "outputs": [
        {
          "output_type": "execute_result",
          "data": {
            "text/plain": [
              "array([[ 0.36483875],\n",
              "       [ 0.63710329],\n",
              "       [-0.3236647 ]])"
            ]
          },
          "metadata": {},
          "execution_count": 26
        }
      ],
      "source": [
        "# Print z1\n",
        "z1"
      ]
    },
    {
      "cell_type": "markdown",
      "metadata": {
        "id": "X3rUC63NyG1P"
      },
      "source": [
        "You can now take the ReLU of $\\mathbf{z_1}$ to get $\\mathbf{h}$, the vector with the values of the hidden layer."
      ]
    },
    {
      "cell_type": "code",
      "execution_count": 27,
      "metadata": {
        "colab": {
          "base_uri": "https://localhost:8080/"
        },
        "id": "_HR26akvyG1P",
        "outputId": "b681a399-90c2-4c71-c89a-745e8bce1089"
      },
      "outputs": [
        {
          "output_type": "execute_result",
          "data": {
            "text/plain": [
              "array([[0.36483875],\n",
              "       [0.63710329],\n",
              "       [0.        ]])"
            ]
          },
          "metadata": {},
          "execution_count": 27
        }
      ],
      "source": [
        "# Compute h (z1 after applying ReLU function)\n",
        "h = relu(z1)\n",
        "\n",
        "# Print h\n",
        "h"
      ]
    },
    {
      "cell_type": "markdown",
      "metadata": {
        "id": "HjXzGcmUyG1Q"
      },
      "source": [
        "Applying ReLU means that the negative element of $\\mathbf{z_1}$ has been replaced with a zero."
      ]
    },
    {
      "cell_type": "markdown",
      "metadata": {
        "id": "EJT9UgZ2yG1Q"
      },
      "source": [
        "### Values of the output layer\n",
        "\n",
        "Here are the formulas you need to calculate the values of the output layer, represented by the vector $\\mathbf{\\hat y}$:\n",
        "\n",
        "\\begin{align}\n",
        " \\mathbf{z_2} &= \\mathbf{W_2}\\mathbf{h} + \\mathbf{b_2}   \\tag{3} \\\\\n",
        " \\mathbf{\\hat y} &= \\mathrm{softmax}(\\mathbf{z_2})   \\tag{4} \\\\\n",
        "\\end{align}\n",
        "\n",
        "**First, calculate $\\mathbf{z_2}$.**"
      ]
    },
    {
      "cell_type": "code",
      "execution_count": 28,
      "metadata": {
        "colab": {
          "base_uri": "https://localhost:8080/"
        },
        "id": "vgPDDvPSyG1Q",
        "outputId": "152f0a31-b05e-4563-82f4-1a30f4fabd26"
      },
      "outputs": [
        {
          "output_type": "execute_result",
          "data": {
            "text/plain": [
              "array([[-0.31973737],\n",
              "       [-0.28125477],\n",
              "       [-0.09838369],\n",
              "       [-0.33512159],\n",
              "       [-0.19919612]])"
            ]
          },
          "metadata": {},
          "execution_count": 28
        }
      ],
      "source": [
        "# Compute z2 (values of the output layer before applying the softmax function)\n",
        "z2 = np.dot(W2, h) + b2\n",
        "\n",
        "# Print z2\n",
        "z2"
      ]
    },
    {
      "cell_type": "markdown",
      "metadata": {
        "id": "jae5rAWGyG1Q"
      },
      "source": [
        "Expected output:\n",
        "\n",
        "    array([[-0.31973737],\n",
        "           [-0.28125477],\n",
        "           [-0.09838369],\n",
        "           [-0.33512159],\n",
        "           [-0.19919612]])"
      ]
    },
    {
      "cell_type": "markdown",
      "metadata": {
        "id": "EMTx2fLcyG1Q"
      },
      "source": [
        "This is a $V$ by 1 matrix, where $V$ is the size of the vocabulary, which is 5 in this example."
      ]
    },
    {
      "cell_type": "markdown",
      "metadata": {
        "id": "jd5SPre0yG1Q"
      },
      "source": [
        "**Now calculate the value of $\\mathbf{\\hat y}$.**"
      ]
    },
    {
      "cell_type": "code",
      "execution_count": 29,
      "metadata": {
        "colab": {
          "base_uri": "https://localhost:8080/"
        },
        "id": "zJOWP9wcyG1Q",
        "outputId": "661a17a1-d288-4851-ee0d-19db3d663110"
      },
      "outputs": [
        {
          "output_type": "execute_result",
          "data": {
            "text/plain": [
              "array([[0.18519074],\n",
              "       [0.19245626],\n",
              "       [0.23107446],\n",
              "       [0.18236353],\n",
              "       [0.20891502]])"
            ]
          },
          "metadata": {},
          "execution_count": 29
        }
      ],
      "source": [
        "# Compute y_hat (z2 after applying softmax function)\n",
        "y_hat = softmax(z2)\n",
        "\n",
        "# Print y_hat\n",
        "y_hat"
      ]
    },
    {
      "cell_type": "markdown",
      "metadata": {
        "id": "gXFp0lBFyG1Q"
      },
      "source": [
        "Expected output:\n",
        "\n",
        "    array([[0.18519074],\n",
        "           [0.19245626],\n",
        "           [0.23107446],\n",
        "           [0.18236353],\n",
        "           [0.20891502]])"
      ]
    },
    {
      "cell_type": "markdown",
      "metadata": {
        "id": "Hh7IZquZyG1Q"
      },
      "source": [
        "As you've performed the calculations with random matrices and vectors (apart from the input vector), the output of the neural network is essentially random at this point. The learning process will adjust the weights and biases to match the actual targets better.\n",
        "\n",
        "**That being said, what word did the neural network predict?**"
      ]
    },
    {
      "cell_type": "markdown",
      "metadata": {
        "id": "ZjvqzEkTyG1Q"
      },
      "source": [
        "<details>    \n",
        "<summary>\n",
        "    <font size=\"3\" color=\"darkgreen\"><b>Solution</b></font>\n",
        "</summary>\n",
        "<p>The neural network predicted the word \"happy\": the largest element of $\\mathbf{\\hat y}$ is the third one, and the third word of the vocabulary is \"happy\".</p>\n",
        "<p>Here's how you could implement this in Python:</p>\n",
        "<p><code>print(Ind2word[np.argmax(y_hat)])</code></p>"
      ]
    },
    {
      "cell_type": "markdown",
      "metadata": {
        "id": "v3tvUM_WyG1Q"
      },
      "source": [
        "Well done, you've completed the forward propagation phase!\n",
        "\n",
        "## Cross-entropy loss\n",
        "\n",
        "Now that you have the network's prediction, you can calculate the cross-entropy loss to determine how accurate the prediction was compared to the actual target.\n",
        "\n",
        "> Remember that you are working on a single training example, not on a batch of examples, which is why you are using *loss* and not *cost*, which is the generalized form of loss.\n",
        "\n",
        "First let's recall what the prediction was."
      ]
    },
    {
      "cell_type": "code",
      "execution_count": 30,
      "metadata": {
        "colab": {
          "base_uri": "https://localhost:8080/"
        },
        "id": "FWeGsFh-yG1Q",
        "outputId": "81afcdd2-3446-4cee-df85-e14cb0f85778"
      },
      "outputs": [
        {
          "output_type": "execute_result",
          "data": {
            "text/plain": [
              "array([[0.18519074],\n",
              "       [0.19245626],\n",
              "       [0.23107446],\n",
              "       [0.18236353],\n",
              "       [0.20891502]])"
            ]
          },
          "metadata": {},
          "execution_count": 30
        }
      ],
      "source": [
        "# Print prediction\n",
        "y_hat"
      ]
    },
    {
      "cell_type": "markdown",
      "metadata": {
        "id": "TZefuWbRyG1R"
      },
      "source": [
        "And the actual target value is:"
      ]
    },
    {
      "cell_type": "code",
      "execution_count": 31,
      "metadata": {
        "colab": {
          "base_uri": "https://localhost:8080/"
        },
        "id": "R2tnv01vyG1R",
        "outputId": "9435a239-7bcf-40f4-8b2c-0f22f94bbb9b"
      },
      "outputs": [
        {
          "output_type": "execute_result",
          "data": {
            "text/plain": [
              "array([[0.],\n",
              "       [0.],\n",
              "       [1.],\n",
              "       [0.],\n",
              "       [0.]])"
            ]
          },
          "metadata": {},
          "execution_count": 31
        }
      ],
      "source": [
        "# Print target value\n",
        "y"
      ]
    },
    {
      "cell_type": "markdown",
      "metadata": {
        "id": "pCWOWSuRyG1R"
      },
      "source": [
        "The formula for cross-entropy loss is:\n",
        "\n",
        "$$ J=-\\sum\\limits_{k=1}^{V}y_k\\log{\\hat{y}_k} \\tag{6}$$\n",
        "\n",
        "**Try implementing the cross-entropy loss function so you get more familiar working with numpy**\n",
        "\n",
        "Here are a some hints if you're stuck."
      ]
    },
    {
      "cell_type": "code",
      "execution_count": 32,
      "metadata": {
        "id": "M0Ogp1ftyG1R"
      },
      "outputs": [],
      "source": [
        "def cross_entropy_loss(y_predicted, y_actual):\n",
        "    # Fill the loss variable with your code\n",
        "    loss = np.sum(- y_actual * np.log(y_predicted))\n",
        "    return loss"
      ]
    },
    {
      "cell_type": "markdown",
      "metadata": {
        "id": "BXzNV8cqyG1R"
      },
      "source": [
        "<details>    \n",
        "<summary>\n",
        "    <font size=\"3\" color=\"darkgreen\"><b>Hint 1</b></font>\n",
        "</summary>\n",
        "    <p>To multiply two numpy matrices (such as <code>y</code> and <code>y_hat</code>) element-wise, you can simply use the <code>*</code> operator.</p>"
      ]
    },
    {
      "cell_type": "markdown",
      "metadata": {
        "id": "QBtuvF9qyG1R"
      },
      "source": [
        "<details>    \n",
        "<summary>\n",
        "    <font size=\"3\" color=\"darkgreen\"><b>Hint 2</b></font>\n",
        "</summary>\n",
        "<p>Once you have a vector equal to the element-wise multiplication of <code>y</code> and <code>y_hat</code>, you can use <code>np.sum</code> to calculate the sum of the elements of this vector.</p>"
      ]
    },
    {
      "cell_type": "markdown",
      "metadata": {
        "id": "1ZtrBIQByG1R"
      },
      "source": [
        "<details>    \n",
        "<summary>\n",
        "    <font size=\"3\" color=\"darkgreen\"><b>Solution</b></font>\n",
        "</summary>\n",
        "<p><code>loss = np.sum(-np.log(y_hat)*y)</code></p>"
      ]
    },
    {
      "cell_type": "markdown",
      "metadata": {
        "id": "752L13fJyG1R"
      },
      "source": [
        "Don't forget to run the cell containing the `cross_entropy_loss` function once it is solved."
      ]
    },
    {
      "cell_type": "markdown",
      "metadata": {
        "id": "jdWyqznlyG1R"
      },
      "source": [
        "**Now use this function to calculate the loss with the actual values of $\\mathbf{y}$ and $\\mathbf{\\hat y}$.**"
      ]
    },
    {
      "cell_type": "code",
      "execution_count": 33,
      "metadata": {
        "colab": {
          "base_uri": "https://localhost:8080/"
        },
        "id": "TY_tLhi5yG1R",
        "outputId": "0d1d0336-1b64-478a-a2f9-c139eb3bd571"
      },
      "outputs": [
        {
          "output_type": "execute_result",
          "data": {
            "text/plain": [
              "1.4650152923611106"
            ]
          },
          "metadata": {},
          "execution_count": 33
        }
      ],
      "source": [
        "# Print value of cross entropy loss for prediction and target value\n",
        "cross_entropy_loss(y_hat, y)"
      ]
    },
    {
      "cell_type": "markdown",
      "metadata": {
        "id": "s0OE05CYyG1R"
      },
      "source": [
        "Expected output:\n",
        "\n",
        "    1.4650152923611106"
      ]
    },
    {
      "cell_type": "markdown",
      "metadata": {
        "id": "z8iekzQuyG1R"
      },
      "source": [
        "This value is neither good nor bad, which is expected as the neural network hasn't learned anything yet.\n",
        "\n",
        "The actual learning will start during the next phase: backpropagation.\n",
        "\n",
        "## Backpropagation\n",
        "\n",
        "The formulas that you will implement for backpropagation are the following.\n",
        "\n",
        "\\begin{align}\n",
        " \\frac{\\partial J}{\\partial \\mathbf{W_1}} &= \\rm{ReLU}\\left ( \\mathbf{W_2^\\top} (\\mathbf{\\hat{y}} - \\mathbf{y})\\right )\\mathbf{x}^\\top \\tag{7}\\\\\n",
        " \\frac{\\partial J}{\\partial \\mathbf{W_2}} &= (\\mathbf{\\hat{y}} - \\mathbf{y})\\mathbf{h^\\top} \\tag{8}\\\\\n",
        " \\frac{\\partial J}{\\partial \\mathbf{b_1}} &= \\rm{ReLU}\\left ( \\mathbf{W_2^\\top} (\\mathbf{\\hat{y}} - \\mathbf{y})\\right ) \\tag{9}\\\\\n",
        " \\frac{\\partial J}{\\partial \\mathbf{b_2}} &= \\mathbf{\\hat{y}} - \\mathbf{y} \\tag{10}\n",
        "\\end{align}\n",
        "\n",
        "> Note: these formulas are slightly simplified compared to the ones in the lecture as you're working on a single training example, whereas the lecture provided the formulas for a batch of examples. In the assignment you'll be implementing the latter.\n",
        "\n",
        "Let's start with an easy one.\n",
        "\n",
        "**Calculate the partial derivative of the loss function with respect to $\\mathbf{b_2}$, and store the result in `grad_b2`.**\n",
        "\n",
        "$$\\frac{\\partial J}{\\partial \\mathbf{b_2}} = \\mathbf{\\hat{y}} - \\mathbf{y} \\tag{10}$$"
      ]
    },
    {
      "cell_type": "code",
      "execution_count": 34,
      "metadata": {
        "colab": {
          "base_uri": "https://localhost:8080/"
        },
        "id": "ruplUppQyG1R",
        "outputId": "dd82dc95-65d1-4c19-fd1e-29fb529e0f33"
      },
      "outputs": [
        {
          "output_type": "execute_result",
          "data": {
            "text/plain": [
              "array([[ 0.18519074],\n",
              "       [ 0.19245626],\n",
              "       [-0.76892554],\n",
              "       [ 0.18236353],\n",
              "       [ 0.20891502]])"
            ]
          },
          "metadata": {},
          "execution_count": 34
        }
      ],
      "source": [
        "# Compute vector with partial derivatives of loss function with respect to b2\n",
        "grad_b2 = y_hat - y\n",
        "\n",
        "# Print this vector\n",
        "grad_b2"
      ]
    },
    {
      "cell_type": "markdown",
      "metadata": {
        "id": "ZgJ2VQ4CyG1R"
      },
      "source": [
        "Expected output:\n",
        "\n",
        "    array([[ 0.18519074],\n",
        "           [ 0.19245626],\n",
        "           [-0.76892554],\n",
        "           [ 0.18236353],\n",
        "           [ 0.20891502]])"
      ]
    },
    {
      "cell_type": "markdown",
      "metadata": {
        "id": "8_xuBk-eyG1R"
      },
      "source": [
        "**Next, calculate the partial derivative of the loss function with respect to $\\mathbf{W_2}$, and store the result in `grad_W2`.**\n",
        "\n",
        "$$\\frac{\\partial J}{\\partial \\mathbf{W_2}} = (\\mathbf{\\hat{y}} - \\mathbf{y})\\mathbf{h^\\top} \\tag{8}$$\n",
        "\n",
        "> Hint: use `.T` to get a transposed matrix, e.g. `h.T` returns $\\mathbf{h^\\top}$."
      ]
    },
    {
      "cell_type": "code",
      "execution_count": 35,
      "metadata": {
        "colab": {
          "base_uri": "https://localhost:8080/"
        },
        "id": "GYffKPdDyG1S",
        "outputId": "f2ee2374-3926-409b-ca6c-b8e2f60df4f1"
      },
      "outputs": [
        {
          "output_type": "execute_result",
          "data": {
            "text/plain": [
              "array([[ 0.06756476,  0.11798563,  0.        ],\n",
              "       [ 0.0702155 ,  0.12261452,  0.        ],\n",
              "       [-0.28053384, -0.48988499,  0.        ],\n",
              "       [ 0.06653328,  0.1161844 ,  0.        ],\n",
              "       [ 0.07622029,  0.13310045,  0.        ]])"
            ]
          },
          "metadata": {},
          "execution_count": 35
        }
      ],
      "source": [
        "# Compute matrix with partial derivatives of loss function with respect to W2\n",
        "grad_W2 = np.dot(y_hat - y, h.T)\n",
        "\n",
        "# Print matrix\n",
        "grad_W2"
      ]
    },
    {
      "cell_type": "markdown",
      "metadata": {
        "id": "Gsn_kaVhyG1S"
      },
      "source": [
        "Expected output:\n",
        "\n",
        "    array([[ 0.06756476,  0.11798563,  0.        ],\n",
        "           [ 0.0702155 ,  0.12261452,  0.        ],\n",
        "           [-0.28053384, -0.48988499,  0.        ],\n",
        "           [ 0.06653328,  0.1161844 ,  0.        ],\n",
        "           [ 0.07622029,  0.13310045,  0.        ]])"
      ]
    },
    {
      "cell_type": "markdown",
      "metadata": {
        "id": "BuUj_owzyG1S"
      },
      "source": [
        "**Now calculate the partial derivative with respect to $\\mathbf{b_1}$ and store the result in `grad_b1`.**\n",
        "\n",
        "$$\\frac{\\partial J}{\\partial \\mathbf{b_1}} = \\rm{ReLU}\\left ( \\mathbf{W_2^\\top} (\\mathbf{\\hat{y}} - \\mathbf{y})\\right ) \\tag{9}$$"
      ]
    },
    {
      "cell_type": "code",
      "execution_count": 36,
      "metadata": {
        "colab": {
          "base_uri": "https://localhost:8080/"
        },
        "id": "bVLzv7layG1S",
        "outputId": "fe9f262f-0879-4905-af22-39cf3e5a5af5"
      },
      "outputs": [
        {
          "output_type": "execute_result",
          "data": {
            "text/plain": [
              "array([[0.        ],\n",
              "       [0.        ],\n",
              "       [0.17045858]])"
            ]
          },
          "metadata": {},
          "execution_count": 36
        }
      ],
      "source": [
        "# Compute vector with partial derivatives of loss function with respect to b1\n",
        "grad_b1 = relu(np.dot(W2.T, y_hat - y))\n",
        "\n",
        "# Print vector\n",
        "grad_b1"
      ]
    },
    {
      "cell_type": "markdown",
      "metadata": {
        "id": "VpyQM5IsyG1S"
      },
      "source": [
        "Expected output:\n",
        "\n",
        "    array([[0.        ],\n",
        "           [0.        ],\n",
        "           [0.17045858]])"
      ]
    },
    {
      "cell_type": "markdown",
      "metadata": {
        "id": "BghGQphByG1S"
      },
      "source": [
        "**Finally, calculate the partial derivative of the loss with respect to $\\mathbf{W_1}$, and store it in `grad_W1`.**\n",
        "\n",
        "$$\\frac{\\partial J}{\\partial \\mathbf{W_1}} = \\rm{ReLU}\\left ( \\mathbf{W_2^\\top} (\\mathbf{\\hat{y}} - \\mathbf{y})\\right )\\mathbf{x}^\\top \\tag{7}$$"
      ]
    },
    {
      "cell_type": "code",
      "execution_count": 37,
      "metadata": {
        "colab": {
          "base_uri": "https://localhost:8080/"
        },
        "id": "w0wlonPuyG1S",
        "outputId": "10d53ceb-ebe4-45dc-f577-b613384dab9e"
      },
      "outputs": [
        {
          "output_type": "execute_result",
          "data": {
            "text/plain": [
              "array([[0.        , 0.        , 0.        , 0.        , 0.        ],\n",
              "       [0.        , 0.        , 0.        , 0.        , 0.        ],\n",
              "       [0.04261464, 0.04261464, 0.        , 0.08522929, 0.        ]])"
            ]
          },
          "metadata": {},
          "execution_count": 37
        }
      ],
      "source": [
        "# Compute matrix with partial derivatives of loss function with respect to W1\n",
        "grad_W1 = np.dot(relu(np.dot(W2.T, y_hat - y)), x.T)\n",
        "\n",
        "# Print matrix\n",
        "grad_W1"
      ]
    },
    {
      "cell_type": "markdown",
      "metadata": {
        "id": "VSdeLyRmyG1S"
      },
      "source": [
        "Expected output:\n",
        "\n",
        "    array([[0.        , 0.        , 0.        , 0.        , 0.        ],\n",
        "           [0.        , 0.        , 0.        , 0.        , 0.        ],\n",
        "           [0.04261464, 0.04261464, 0.        , 0.08522929, 0.        ]])"
      ]
    },
    {
      "cell_type": "markdown",
      "metadata": {
        "id": "xsbNBfVsyG1S"
      },
      "source": [
        "Before moving on to gradient descent, double-check that all the matrices have the expected dimensions."
      ]
    },
    {
      "cell_type": "code",
      "execution_count": 38,
      "metadata": {
        "colab": {
          "base_uri": "https://localhost:8080/"
        },
        "id": "KD_EfjdYyG1S",
        "outputId": "0580639d-fdc1-4ae0-80d8-03d4b2024a8e"
      },
      "outputs": [
        {
          "output_type": "stream",
          "name": "stdout",
          "text": [
            "V (vocabulary size): 5\n",
            "N (embedding size / size of the hidden layer): 3\n",
            "size of grad_W1: (3, 5) (NxV)\n",
            "size of grad_b1: (3, 1) (Nx1)\n",
            "size of grad_W2: (5, 3) (VxN)\n",
            "size of grad_b2: (5, 1) (Vx1)\n"
          ]
        }
      ],
      "source": [
        "print(f'V (vocabulary size): {V}')\n",
        "print(f'N (embedding size / size of the hidden layer): {N}')\n",
        "print(f'size of grad_W1: {grad_W1.shape} (NxV)')\n",
        "print(f'size of grad_b1: {grad_b1.shape} (Nx1)')\n",
        "print(f'size of grad_W2: {grad_W2.shape} (VxN)')\n",
        "print(f'size of grad_b2: {grad_b2.shape} (Vx1)')"
      ]
    },
    {
      "cell_type": "markdown",
      "metadata": {
        "id": "bMYe5ZC6yG1S"
      },
      "source": [
        "## Gradient descent\n",
        "\n",
        "During the gradient descent phase, you will update the weights and biases by subtracting $\\alpha$ times the gradient from the original matrices and vectors, using the following formulas.\n",
        "\n",
        "\\begin{align}\n",
        " \\mathbf{W_1} &:= \\mathbf{W_1} - \\alpha \\frac{\\partial J}{\\partial \\mathbf{W_1}} \\tag{11}\\\\\n",
        " \\mathbf{W_2} &:= \\mathbf{W_2} - \\alpha \\frac{\\partial J}{\\partial \\mathbf{W_2}} \\tag{12}\\\\\n",
        " \\mathbf{b_1} &:= \\mathbf{b_1} - \\alpha \\frac{\\partial J}{\\partial \\mathbf{b_1}} \\tag{13}\\\\\n",
        " \\mathbf{b_2} &:= \\mathbf{b_2} - \\alpha \\frac{\\partial J}{\\partial \\mathbf{b_2}} \\tag{14}\\\\\n",
        "\\end{align}\n",
        "\n",
        "First, let set a value for $\\alpha$."
      ]
    },
    {
      "cell_type": "code",
      "execution_count": 39,
      "metadata": {
        "id": "vhMuZRS1yG1S"
      },
      "outputs": [],
      "source": [
        "# Define alpha\n",
        "alpha = 0.03"
      ]
    },
    {
      "cell_type": "markdown",
      "metadata": {
        "id": "DVnKGLkGyG1S"
      },
      "source": [
        "The updated weight matrix $\\mathbf{W_1}$ will be:"
      ]
    },
    {
      "cell_type": "code",
      "execution_count": 40,
      "metadata": {
        "id": "D8qbBi1EyG1S"
      },
      "outputs": [],
      "source": [
        "# Compute updated W1\n",
        "W1_new = W1 - alpha * grad_W1"
      ]
    },
    {
      "cell_type": "markdown",
      "metadata": {
        "id": "7Vy7Zg8KyG1S"
      },
      "source": [
        "Let's compare the previous and new values of $\\mathbf{W_1}$:"
      ]
    },
    {
      "cell_type": "code",
      "execution_count": 41,
      "metadata": {
        "colab": {
          "base_uri": "https://localhost:8080/"
        },
        "id": "C0yQBzWUyG1S",
        "outputId": "b6be2676-2324-41d4-c69b-d1285d81b167"
      },
      "outputs": [
        {
          "output_type": "stream",
          "name": "stdout",
          "text": [
            "old value of W1:\n",
            "[[ 0.41687358  0.08854191 -0.23495225  0.28320538  0.41800106]\n",
            " [ 0.32735501  0.22795148 -0.23951958  0.4117634  -0.23924344]\n",
            " [ 0.26637602 -0.23846886 -0.37770863 -0.11399446  0.34008124]]\n",
            "\n",
            "new value of W1:\n",
            "[[ 0.41687358  0.08854191 -0.23495225  0.28320538  0.41800106]\n",
            " [ 0.32735501  0.22795148 -0.23951958  0.4117634  -0.23924344]\n",
            " [ 0.26509758 -0.2397473  -0.37770863 -0.11655134  0.34008124]]\n"
          ]
        }
      ],
      "source": [
        "print('old value of W1:')\n",
        "print(W1)\n",
        "print()\n",
        "print('new value of W1:')\n",
        "print(W1_new)"
      ]
    },
    {
      "cell_type": "markdown",
      "metadata": {
        "id": "LplgNMagyG1T"
      },
      "source": [
        "The difference is very subtle (hint: take a closer look at the last row), which is why it takes a fair amount of iterations to train the neural network until it reaches optimal weights and biases starting from random values.\n",
        "\n",
        "**Now calculate the new values of $\\mathbf{W_2}$ (to be stored in `W2_new`), $\\mathbf{b_1}$ (in `b1_new`), and $\\mathbf{b_2}$ (in `b2_new`).**\n",
        "\n",
        "\\begin{align}\n",
        " \\mathbf{W_2} &:= \\mathbf{W_2} - \\alpha \\frac{\\partial J}{\\partial \\mathbf{W_2}} \\tag{12}\\\\\n",
        " \\mathbf{b_1} &:= \\mathbf{b_1} - \\alpha \\frac{\\partial J}{\\partial \\mathbf{b_1}} \\tag{13}\\\\\n",
        " \\mathbf{b_2} &:= \\mathbf{b_2} - \\alpha \\frac{\\partial J}{\\partial \\mathbf{b_2}} \\tag{14}\\\\\n",
        "\\end{align}"
      ]
    },
    {
      "cell_type": "code",
      "execution_count": 42,
      "metadata": {
        "colab": {
          "base_uri": "https://localhost:8080/"
        },
        "id": "AMOOZiJuyG1T",
        "outputId": "2ef114ab-e5eb-4318-be4f-b0386e7729b3"
      },
      "outputs": [
        {
          "output_type": "stream",
          "name": "stdout",
          "text": [
            "W2_new\n",
            "[[-0.22384758 -0.43362588  0.13310965]\n",
            " [ 0.08265956  0.0775535   0.1772054 ]\n",
            " [ 0.19557112 -0.04637608 -0.1790735 ]\n",
            " [ 0.06855622 -0.02363691  0.36107434]\n",
            " [ 0.33251813 -0.3982269  -0.43959196]]\n",
            "\n",
            "b1_new\n",
            "[[ 0.09688219]\n",
            " [ 0.29239497]\n",
            " [-0.27875802]]\n",
            "\n",
            "b2_new\n",
            "[[ 0.02964508]\n",
            " [-0.36970753]\n",
            " [-0.10468778]\n",
            " [-0.35349417]\n",
            " [-0.0764456 ]]\n"
          ]
        }
      ],
      "source": [
        "# Compute updated W2\n",
        "W2_new = W2 - alpha * grad_W2\n",
        "\n",
        "# Compute updated b1\n",
        "b1_new = b1 - alpha * grad_b1\n",
        "\n",
        "# Compute updated b2\n",
        "b2_new = b2 - alpha * grad_b2\n",
        "\n",
        "\n",
        "print('W2_new')\n",
        "print(W2_new)\n",
        "print()\n",
        "print('b1_new')\n",
        "print(b1_new)\n",
        "print()\n",
        "print('b2_new')\n",
        "print(b2_new)"
      ]
    },
    {
      "cell_type": "markdown",
      "metadata": {
        "id": "mYGvvolmyG1T"
      },
      "source": [
        "Expected output:\n",
        "\n",
        "    W2_new\n",
        "    [[-0.22384758 -0.43362588  0.13310965]\n",
        "     [ 0.08265956  0.0775535   0.1772054 ]\n",
        "     [ 0.19557112 -0.04637608 -0.1790735 ]\n",
        "     [ 0.06855622 -0.02363691  0.36107434]\n",
        "     [ 0.33251813 -0.3982269  -0.43959196]]\n",
        "\n",
        "    b1_new\n",
        "    [[ 0.09688219]\n",
        "     [ 0.29239497]\n",
        "     [-0.27875802]]\n",
        "\n",
        "    b2_new\n",
        "    [[ 0.02964508]\n",
        "     [-0.36970753]\n",
        "     [-0.10468778]\n",
        "     [-0.35349417]\n",
        "     [-0.0764456 ]]"
      ]
    }
  ],
  "metadata": {
    "kernelspec": {
      "display_name": "Python 3",
      "language": "python",
      "name": "python3"
    },
    "language_info": {
      "codemirror_mode": {
        "name": "ipython",
        "version": 3
      },
      "file_extension": ".py",
      "mimetype": "text/x-python",
      "name": "python",
      "nbconvert_exporter": "python",
      "pygments_lexer": "ipython3",
      "version": "3.7.5"
    },
    "toc": {
      "base_numbering": 1,
      "nav_menu": {},
      "number_sections": true,
      "sideBar": true,
      "skip_h1_title": false,
      "title_cell": "Table of Contents",
      "title_sidebar": "Contents",
      "toc_cell": false,
      "toc_position": {},
      "toc_section_display": true,
      "toc_window_display": false
    },
    "colab": {
      "provenance": [],
      "include_colab_link": true
    }
  },
  "nbformat": 4,
  "nbformat_minor": 0
}